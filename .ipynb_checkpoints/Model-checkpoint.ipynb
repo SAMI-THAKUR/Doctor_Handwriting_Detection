{
 "cells": [
  {
   "cell_type": "code",
   "execution_count": 1,
   "id": "6c4239e2-66a8-438e-be08-ff8573427de3",
   "metadata": {
    "execution": {
     "iopub.execute_input": "2024-11-06T10:43:16.190043Z",
     "iopub.status.busy": "2024-11-06T10:43:16.190043Z",
     "iopub.status.idle": "2024-11-06T10:43:25.333320Z",
     "shell.execute_reply": "2024-11-06T10:43:25.331323Z",
     "shell.execute_reply.started": "2024-11-06T10:43:16.190043Z"
    }
   },
   "outputs": [
    {
     "name": "stdout",
     "output_type": "stream",
     "text": [
      "WARNING:tensorflow:From C:\\Users\\SAMI\\AppData\\Local\\Programs\\Python\\Python310\\lib\\site-packages\\keras\\src\\losses.py:2976: The name tf.losses.sparse_softmax_cross_entropy is deprecated. Please use tf.compat.v1.losses.sparse_softmax_cross_entropy instead.\n",
      "\n"
     ]
    }
   ],
   "source": [
    "import tensorflow as tf\n",
    "from tensorflow.keras.layers import Conv2D, MaxPooling2D, Dropout, Reshape, SimpleRNN, Dense, Flatten\n",
    "from tensorflow.keras import layers, models\n",
    "from tensorflow.keras.preprocessing.image import ImageDataGenerator\n",
    "from tensorflow.keras.optimizers import Adam\n",
    "import numpy as np\n",
    "import matplotlib.pyplot as plt\n",
    "import pandas as pd"
   ]
  },
  {
   "cell_type": "code",
   "execution_count": 2,
   "id": "cf0df13a-d65f-49d0-9997-2bc6ff4a1091",
   "metadata": {
    "execution": {
     "iopub.execute_input": "2024-11-06T10:43:25.336825Z",
     "iopub.status.busy": "2024-11-06T10:43:25.335823Z",
     "iopub.status.idle": "2024-11-06T10:43:25.347336Z",
     "shell.execute_reply": "2024-11-06T10:43:25.346338Z",
     "shell.execute_reply.started": "2024-11-06T10:43:25.336825Z"
    }
   },
   "outputs": [],
   "source": [
    "train = np.load('train_data.npz', allow_pickle=True)"
   ]
  },
  {
   "cell_type": "code",
   "execution_count": 3,
   "id": "56db660a-9500-4fd7-8c25-2cc962a95143",
   "metadata": {
    "execution": {
     "iopub.execute_input": "2024-11-06T10:43:25.349330Z",
     "iopub.status.busy": "2024-11-06T10:43:25.348332Z",
     "iopub.status.idle": "2024-11-06T10:43:25.362811Z",
     "shell.execute_reply": "2024-11-06T10:43:25.361814Z",
     "shell.execute_reply.started": "2024-11-06T10:43:25.349330Z"
    }
   },
   "outputs": [],
   "source": [
    "valid = np.load('valid_data.npz', allow_pickle=True)"
   ]
  },
  {
   "cell_type": "code",
   "execution_count": 4,
   "id": "802a91db-e408-4491-aba4-d1510b87f6e5",
   "metadata": {
    "execution": {
     "iopub.execute_input": "2024-11-06T10:43:25.369330Z",
     "iopub.status.busy": "2024-11-06T10:43:25.368333Z",
     "iopub.status.idle": "2024-11-06T10:43:25.579382Z",
     "shell.execute_reply": "2024-11-06T10:43:25.578385Z",
     "shell.execute_reply.started": "2024-11-06T10:43:25.368333Z"
    }
   },
   "outputs": [],
   "source": [
    "# Access the arrays\n",
    "train_images = train['images']\n",
    "train_labels = train['labels']"
   ]
  },
  {
   "cell_type": "code",
   "execution_count": 5,
   "id": "a5368c04-b17d-4891-b42e-0036a6bd57bb",
   "metadata": {
    "execution": {
     "iopub.execute_input": "2024-11-06T10:43:25.581377Z",
     "iopub.status.busy": "2024-11-06T10:43:25.580379Z",
     "iopub.status.idle": "2024-11-06T10:43:25.642639Z",
     "shell.execute_reply": "2024-11-06T10:43:25.641642Z",
     "shell.execute_reply.started": "2024-11-06T10:43:25.581377Z"
    }
   },
   "outputs": [],
   "source": [
    "valid_images = valid['images']\n",
    "valid_labels = valid['labels']"
   ]
  },
  {
   "cell_type": "code",
   "execution_count": 6,
   "id": "82cc25a3-ec4a-4343-8537-6bf7840f49b8",
   "metadata": {
    "execution": {
     "iopub.execute_input": "2024-11-06T10:43:25.645161Z",
     "iopub.status.busy": "2024-11-06T10:43:25.644147Z",
     "iopub.status.idle": "2024-11-06T10:43:26.446064Z",
     "shell.execute_reply": "2024-11-06T10:43:26.444052Z",
     "shell.execute_reply.started": "2024-11-06T10:43:25.644147Z"
    }
   },
   "outputs": [],
   "source": [
    "from sklearn.preprocessing import LabelEncoder\n",
    "\n",
    "label_encoder = LabelEncoder()\n",
    "train_labels = label_encoder.fit_transform(train_labels)\n",
    "valid_labels = label_encoder.fit_transform(valid_labels)"
   ]
  },
  {
   "cell_type": "code",
   "execution_count": 7,
   "id": "4d8feb8c-873f-42dc-944f-15f99b766a10",
   "metadata": {
    "execution": {
     "iopub.execute_input": "2024-11-06T10:43:26.449061Z",
     "iopub.status.busy": "2024-11-06T10:43:26.448063Z",
     "iopub.status.idle": "2024-11-06T10:43:26.475553Z",
     "shell.execute_reply": "2024-11-06T10:43:26.473049Z",
     "shell.execute_reply.started": "2024-11-06T10:43:26.449061Z"
    }
   },
   "outputs": [
    {
     "data": {
      "text/plain": [
       "78"
      ]
     },
     "execution_count": 7,
     "metadata": {},
     "output_type": "execute_result"
    }
   ],
   "source": [
    "len(np.unique(train_labels))"
   ]
  },
  {
   "cell_type": "code",
   "execution_count": 8,
   "id": "7ff01bed-5b0d-4b41-b2fd-4f10d5afbb86",
   "metadata": {
    "execution": {
     "iopub.execute_input": "2024-11-06T10:43:26.479546Z",
     "iopub.status.busy": "2024-11-06T10:43:26.478550Z",
     "iopub.status.idle": "2024-11-06T10:43:26.505610Z",
     "shell.execute_reply": "2024-11-06T10:43:26.504103Z",
     "shell.execute_reply.started": "2024-11-06T10:43:26.479546Z"
    }
   },
   "outputs": [
    {
     "data": {
      "text/plain": [
       "3120"
      ]
     },
     "execution_count": 8,
     "metadata": {},
     "output_type": "execute_result"
    }
   ],
   "source": [
    "len(train_images)"
   ]
  },
  {
   "cell_type": "code",
   "execution_count": 9,
   "id": "8b57cf25-04c9-4520-a7c0-d22148db7952",
   "metadata": {
    "execution": {
     "iopub.execute_input": "2024-11-06T10:43:26.509604Z",
     "iopub.status.busy": "2024-11-06T10:43:26.508607Z",
     "iopub.status.idle": "2024-11-06T10:43:26.535137Z",
     "shell.execute_reply": "2024-11-06T10:43:26.534107Z",
     "shell.execute_reply.started": "2024-11-06T10:43:26.509604Z"
    }
   },
   "outputs": [
    {
     "data": {
      "text/plain": [
       "3120"
      ]
     },
     "execution_count": 9,
     "metadata": {},
     "output_type": "execute_result"
    }
   ],
   "source": [
    "len(train_labels)"
   ]
  },
  {
   "cell_type": "code",
   "execution_count": 10,
   "id": "bdf94aab-5511-41c2-9a87-c0221c293d9f",
   "metadata": {
    "execution": {
     "iopub.execute_input": "2024-11-06T10:43:26.539130Z",
     "iopub.status.busy": "2024-11-06T10:43:26.538133Z",
     "iopub.status.idle": "2024-11-06T10:43:26.550615Z",
     "shell.execute_reply": "2024-11-06T10:43:26.549618Z",
     "shell.execute_reply.started": "2024-11-06T10:43:26.539130Z"
    }
   },
   "outputs": [
    {
     "data": {
      "text/plain": [
       "(64, 64, 1)"
      ]
     },
     "execution_count": 10,
     "metadata": {},
     "output_type": "execute_result"
    }
   ],
   "source": [
    "train_images[0].shape"
   ]
  },
  {
   "cell_type": "code",
   "execution_count": 11,
   "id": "79fdeafa-29fa-42a6-96b2-90ecd0bb83ef",
   "metadata": {
    "execution": {
     "iopub.execute_input": "2024-11-06T10:43:26.556132Z",
     "iopub.status.busy": "2024-11-06T10:43:26.555143Z",
     "iopub.status.idle": "2024-11-06T10:43:26.565622Z",
     "shell.execute_reply": "2024-11-06T10:43:26.564621Z",
     "shell.execute_reply.started": "2024-11-06T10:43:26.556132Z"
    }
   },
   "outputs": [],
   "source": [
    "datagen = ImageDataGenerator(\n",
    "    rotation_range=5,  \n",
    "    zoom_range=0.1, \n",
    "    fill_mode='nearest' \n",
    ")"
   ]
  },
  {
   "cell_type": "code",
   "execution_count": 12,
   "id": "c1bbd6b7-8035-4a42-b3ae-f0d4828562ea",
   "metadata": {
    "execution": {
     "iopub.execute_input": "2024-11-06T10:43:26.570613Z",
     "iopub.status.busy": "2024-11-06T10:43:26.569618Z",
     "iopub.status.idle": "2024-11-06T10:43:29.162702Z",
     "shell.execute_reply": "2024-11-06T10:43:29.161704Z",
     "shell.execute_reply.started": "2024-11-06T10:43:26.570613Z"
    }
   },
   "outputs": [],
   "source": [
    "augmented_images = []\n",
    "augmented_labels = []\n",
    "\n",
    "for i in range(len(train_images)):\n",
    "    img = train_images[i]\n",
    "    label = train_labels[i]\n",
    "    img = np.expand_dims(img, 0)\n",
    "    for augmented_img in datagen.flow(img, batch_size=1):\n",
    "        augmented_images.append(augmented_img[0])\n",
    "        augmented_labels.append(label)\n",
    "        break \n",
    "augmented_images = np.array(augmented_images)\n",
    "augmented_labels = np.array(augmented_labels)"
   ]
  },
  {
   "cell_type": "code",
   "execution_count": 13,
   "id": "77bbdcc8-cb23-4b09-b8d9-a56b542ac121",
   "metadata": {
    "execution": {
     "iopub.execute_input": "2024-11-06T10:43:29.169594Z",
     "iopub.status.busy": "2024-11-06T10:43:29.168597Z",
     "iopub.status.idle": "2024-11-06T10:43:29.178341Z",
     "shell.execute_reply": "2024-11-06T10:43:29.177344Z",
     "shell.execute_reply.started": "2024-11-06T10:43:29.169594Z"
    }
   },
   "outputs": [],
   "source": [
    "# Define input shape\n",
    "input_shape = augmented_images[0].shape \n",
    "num_classes = len(np.unique(augmented_labels)) "
   ]
  },
  {
   "cell_type": "code",
   "execution_count": 14,
   "id": "f7cb698a-82cc-4416-9847-de8988357097",
   "metadata": {
    "execution": {
     "iopub.execute_input": "2024-11-06T10:43:29.180337Z",
     "iopub.status.busy": "2024-11-06T10:43:29.179339Z",
     "iopub.status.idle": "2024-11-06T10:43:30.240299Z",
     "shell.execute_reply": "2024-11-06T10:43:30.239301Z",
     "shell.execute_reply.started": "2024-11-06T10:43:29.180337Z"
    },
    "scrolled": true
   },
   "outputs": [
    {
     "name": "stdout",
     "output_type": "stream",
     "text": [
      "WARNING:tensorflow:From C:\\Users\\SAMI\\AppData\\Local\\Programs\\Python\\Python310\\lib\\site-packages\\keras\\src\\backend.py:873: The name tf.get_default_graph is deprecated. Please use tf.compat.v1.get_default_graph instead.\n",
      "\n",
      "WARNING:tensorflow:From C:\\Users\\SAMI\\AppData\\Local\\Programs\\Python\\Python310\\lib\\site-packages\\keras\\src\\layers\\pooling\\max_pooling2d.py:161: The name tf.nn.max_pool is deprecated. Please use tf.nn.max_pool2d instead.\n",
      "\n"
     ]
    }
   ],
   "source": [
    "from tensorflow.keras.models import Sequential\n",
    "\n",
    "model = Sequential()\n",
    "\n",
    "model.add(Conv2D(32, (3, 3), activation='relu', input_shape=input_shape))\n",
    "model.add(MaxPooling2D(pool_size=(2, 2)))\n",
    "model.add(Conv2D(64, (3, 3), activation='relu'))\n",
    "model.add(MaxPooling2D(pool_size=(2, 2)))\n",
    "model.add(Conv2D(128, (3, 3), activation='relu'))\n",
    "model.add(MaxPooling2D(pool_size=(2, 2)))\n",
    "model.add(Flatten())\n",
    "model.add(Dense(512, activation='relu'))\n",
    "model.add(Dropout(0.5))\n",
    "\n",
    "model.add(Reshape((-1, 128)))  \n",
    "model.add(SimpleRNN(128, return_sequences=False)) \n",
    "model.add(Dense(num_classes, activation='softmax')) "
   ]
  },
  {
   "cell_type": "code",
   "execution_count": 15,
   "id": "ec132801-19ee-4c3d-ab1d-c77b541f5f5d",
   "metadata": {
    "execution": {
     "iopub.execute_input": "2024-11-06T10:43:30.242293Z",
     "iopub.status.busy": "2024-11-06T10:43:30.241296Z",
     "iopub.status.idle": "2024-11-06T10:44:34.025886Z",
     "shell.execute_reply": "2024-11-06T10:44:34.024381Z",
     "shell.execute_reply.started": "2024-11-06T10:43:30.242293Z"
    }
   },
   "outputs": [
    {
     "name": "stdout",
     "output_type": "stream",
     "text": [
      "WARNING:tensorflow:From C:\\Users\\SAMI\\AppData\\Local\\Programs\\Python\\Python310\\lib\\site-packages\\keras\\src\\optimizers\\__init__.py:309: The name tf.train.Optimizer is deprecated. Please use tf.compat.v1.train.Optimizer instead.\n",
      "\n",
      "Epoch 1/25\n",
      "WARNING:tensorflow:From C:\\Users\\SAMI\\AppData\\Local\\Programs\\Python\\Python310\\lib\\site-packages\\keras\\src\\utils\\tf_utils.py:492: The name tf.ragged.RaggedTensorValue is deprecated. Please use tf.compat.v1.ragged.RaggedTensorValue instead.\n",
      "\n",
      "WARNING:tensorflow:From C:\\Users\\SAMI\\AppData\\Local\\Programs\\Python\\Python310\\lib\\site-packages\\keras\\src\\engine\\base_layer_utils.py:384: The name tf.executing_eagerly_outside_functions is deprecated. Please use tf.compat.v1.executing_eagerly_outside_functions instead.\n",
      "\n",
      "98/98 [==============================] - 10s 78ms/step - loss: 4.3663 - accuracy: 0.0147 - val_loss: 4.2886 - val_accuracy: 0.0308\n",
      "Epoch 2/25\n",
      "98/98 [==============================] - 8s 87ms/step - loss: 4.1475 - accuracy: 0.0490 - val_loss: 3.7329 - val_accuracy: 0.1397\n",
      "Epoch 3/25\n",
      "98/98 [==============================] - 8s 79ms/step - loss: 3.5477 - accuracy: 0.1538 - val_loss: 3.0221 - val_accuracy: 0.2641\n",
      "Epoch 4/25\n",
      "98/98 [==============================] - 7s 71ms/step - loss: 2.8317 - accuracy: 0.3131 - val_loss: 2.4789 - val_accuracy: 0.3987\n",
      "Epoch 5/25\n",
      "98/98 [==============================] - 8s 80ms/step - loss: 2.2571 - accuracy: 0.4615 - val_loss: 2.0313 - val_accuracy: 0.5154\n",
      "Epoch 6/25\n",
      "98/98 [==============================] - 7s 76ms/step - loss: 1.7512 - accuracy: 0.5865 - val_loss: 1.7170 - val_accuracy: 0.5885\n",
      "Epoch 7/25\n",
      "98/98 [==============================] - 7s 74ms/step - loss: 1.3282 - accuracy: 0.6929 - val_loss: 1.6071 - val_accuracy: 0.6282\n",
      "Epoch 8/25\n",
      "97/98 [============================>.] - ETA: 0s - loss: 1.0242 - accuracy: 0.7722Restoring model weights from the end of the best epoch: 7.\n",
      "98/98 [==============================] - 7s 74ms/step - loss: 1.0218 - accuracy: 0.7731 - val_loss: 1.5459 - val_accuracy: 0.6256\n",
      "Epoch 8: early stopping\n"
     ]
    }
   ],
   "source": [
    "from tensorflow.keras.callbacks import EarlyStopping\n",
    "\n",
    "early_stopping = EarlyStopping(\n",
    "    monitor='val_accuracy',\n",
    "    mode='max',\n",
    "    patience=3,  \n",
    "    verbose=1,\n",
    "    baseline=0.73, \n",
    "    restore_best_weights=True  \n",
    ")\n",
    "\n",
    "model.compile(optimizer='adam', loss='sparse_categorical_crossentropy', metrics=['accuracy'])\n",
    "history = model.fit(\n",
    "    augmented_images, augmented_labels,\n",
    "    validation_data=(valid_images, valid_labels),\n",
    "    epochs=25,\n",
    "    batch_size=32,\n",
    "    callbacks=[early_stopping]\n",
    ")\n"
   ]
  },
  {
   "cell_type": "code",
   "execution_count": 21,
   "id": "fc347c10-68f8-4016-b093-3cfc6a1606f3",
   "metadata": {
    "execution": {
     "iopub.execute_input": "2024-11-06T10:45:24.936280Z",
     "iopub.status.busy": "2024-11-06T10:45:24.935278Z",
     "iopub.status.idle": "2024-11-06T10:45:25.270361Z",
     "shell.execute_reply": "2024-11-06T10:45:25.268854Z",
     "shell.execute_reply.started": "2024-11-06T10:45:24.936280Z"
    }
   },
   "outputs": [
    {
     "data": {
      "text/plain": [
       "<matplotlib.legend.Legend at 0x1ad5f94d360>"
      ]
     },
     "execution_count": 21,
     "metadata": {},
     "output_type": "execute_result"
    },
    {
     "data": {
      "image/png": "[encoded data removed]",
      "text/plain": [
       "<Figure size 640x480 with 1 Axes>"
      ]
     },
     "metadata": {},
     "output_type": "display_data"
    }
   ],
   "source": [
    "import matplotlib.pyplot as plt\n",
    "plt.plot(history.history['loss'], label='loss')\n",
    "plt.plot(history.history['val_loss'], label='val_loss')\n",
    "plt.legend()"
   ]
  },
  {
   "cell_type": "code",
   "execution_count": 22,
   "id": "9eb664e7-280c-4ded-9c51-d1578574cf9d",
   "metadata": {
    "execution": {
     "iopub.execute_input": "2024-11-06T10:45:28.113364Z",
     "iopub.status.busy": "2024-11-06T10:45:28.112365Z",
     "iopub.status.idle": "2024-11-06T10:45:28.128497Z",
     "shell.execute_reply": "2024-11-06T10:45:28.127498Z",
     "shell.execute_reply.started": "2024-11-06T10:45:28.113364Z"
    }
   },
   "outputs": [],
   "source": [
    "test = np.load('test_data.npz',allow_pickle=True)"
   ]
  },
  {
   "cell_type": "code",
   "execution_count": 23,
   "id": "95b8da6b-4e26-4f62-9afa-c385ff0f19ab",
   "metadata": {
    "execution": {
     "iopub.execute_input": "2024-11-06T10:45:29.112431Z",
     "iopub.status.busy": "2024-11-06T10:45:29.111434Z",
     "iopub.status.idle": "2024-11-06T10:45:29.174313Z",
     "shell.execute_reply": "2024-11-06T10:45:29.172805Z",
     "shell.execute_reply.started": "2024-11-06T10:45:29.112431Z"
    }
   },
   "outputs": [],
   "source": [
    "test_images = test['images']\n",
    "test_labels = test['labels']"
   ]
  },
  {
   "cell_type": "code",
   "execution_count": 24,
   "id": "2d91fa43-6764-49a0-8fce-7b38bc231c70",
   "metadata": {
    "execution": {
     "iopub.execute_input": "2024-11-06T10:45:29.691416Z",
     "iopub.status.busy": "2024-11-06T10:45:29.691416Z",
     "iopub.status.idle": "2024-11-06T10:45:29.705490Z",
     "shell.execute_reply": "2024-11-06T10:45:29.704489Z",
     "shell.execute_reply.started": "2024-11-06T10:45:29.691416Z"
    }
   },
   "outputs": [],
   "source": [
    "test_labels = label_encoder.fit_transform(test_labels)"
   ]
  },
  {
   "cell_type": "code",
   "execution_count": 25,
   "id": "49373bec-4f9f-4bad-ab78-71775f661eca",
   "metadata": {
    "execution": {
     "iopub.execute_input": "2024-11-06T10:45:30.132636Z",
     "iopub.status.busy": "2024-11-06T10:45:30.132636Z",
     "iopub.status.idle": "2024-11-06T10:45:30.766333Z",
     "shell.execute_reply": "2024-11-06T10:45:30.765333Z",
     "shell.execute_reply.started": "2024-11-06T10:45:30.132636Z"
    }
   },
   "outputs": [
    {
     "name": "stdout",
     "output_type": "stream",
     "text": [
      "25/25 [==============================] - 1s 20ms/step - loss: 2.1770 - accuracy: 0.4718\n"
     ]
    }
   ],
   "source": [
    "# Evaluate the model\n",
    "loss, accuracy = model.evaluate(test_images,test_labels)"
   ]
  },
  {
   "cell_type": "code",
   "execution_count": null,
   "id": "6ff311f7-bfb0-40a7-b499-c121f6cf7595",
   "metadata": {},
   "outputs": [],
   "source": []
  }
 ],
 "metadata": {
  "kernelspec": {
   "display_name": "Python 3 (ipykernel)",
   "language": "python",
   "name": "python3"
  },
  "language_info": {
   "codemirror_mode": {
    "name": "ipython",
    "version": 3
   },
   "file_extension": ".py",
   "mimetype": "text/x-python",
   "name": "python",
   "nbconvert_exporter": "python",
   "pygments_lexer": "ipython3",
   "version": "3.10.0"
  }
 },
 "nbformat": 4,
 "nbformat_minor": 5
}
