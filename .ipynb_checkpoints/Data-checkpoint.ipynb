{
 "cells": [
  {
   "cell_type": "code",
   "execution_count": 1,
   "id": "b0a1451c-3165-4f68-9fee-2d5b42faf011",
   "metadata": {
    "execution": {
     "iopub.execute_input": "2024-11-06T08:42:43.242975Z",
     "iopub.status.busy": "2024-11-06T08:42:43.240450Z",
     "iopub.status.idle": "2024-11-06T08:42:46.438545Z",
     "shell.execute_reply": "2024-11-06T08:42:46.436550Z",
     "shell.execute_reply.started": "2024-11-06T08:42:43.242975Z"
    }
   },
   "outputs": [],
   "source": [
    "import pandas as pd\n",
    "import os\n",
    "from PIL import Image\n",
    "import numpy as np\n",
    "import matplotlib.pyplot as plt"
   ]
  },
  {
   "cell_type": "code",
   "execution_count": 2,
   "id": "a0106981-7a50-4a3f-be36-ca61227c6c9c",
   "metadata": {
    "execution": {
     "iopub.execute_input": "2024-11-06T08:42:46.454563Z",
     "iopub.status.busy": "2024-11-06T08:42:46.453561Z",
     "iopub.status.idle": "2024-11-06T08:42:46.492315Z",
     "shell.execute_reply": "2024-11-06T08:42:46.484831Z",
     "shell.execute_reply.started": "2024-11-06T08:42:46.454563Z"
    }
   },
   "outputs": [],
   "source": [
    "train = pd.read_csv('Training/training_labels.csv')"
   ]
  },
  {
   "cell_type": "code",
   "execution_count": 3,
   "id": "c98fae91-cbcc-408a-80d8-785627903e35",
   "metadata": {
    "execution": {
     "iopub.execute_input": "2024-11-06T08:42:46.503825Z",
     "iopub.status.busy": "2024-11-06T08:42:46.502827Z",
     "iopub.status.idle": "2024-11-06T08:42:46.559861Z",
     "shell.execute_reply": "2024-11-06T08:42:46.552876Z",
     "shell.execute_reply.started": "2024-11-06T08:42:46.503825Z"
    }
   },
   "outputs": [
    {
     "data": {
      "text/html": [
       "<div>\n",
       "<style scoped>\n",
       "    .dataframe tbody tr th:only-of-type {\n",
       "        vertical-align: middle;\n",
       "    }\n",
       "\n",
       "    .dataframe tbody tr th {\n",
       "        vertical-align: top;\n",
       "    }\n",
       "\n",
       "    .dataframe thead th {\n",
       "        text-align: right;\n",
       "    }\n",
       "</style>\n",
       "<table border=\"1\" class=\"dataframe\">\n",
       "  <thead>\n",
       "    <tr style=\"text-align: right;\">\n",
       "      <th></th>\n",
       "      <th>IMAGE</th>\n",
       "      <th>MEDICINE_NAME</th>\n",
       "      <th>GENERIC_NAME</th>\n",
       "    </tr>\n",
       "  </thead>\n",
       "  <tbody>\n",
       "    <tr>\n",
       "      <th>0</th>\n",
       "      <td>0.png</td>\n",
       "      <td>Aceta</td>\n",
       "      <td>Paracetamol</td>\n",
       "    </tr>\n",
       "    <tr>\n",
       "      <th>1</th>\n",
       "      <td>1.png</td>\n",
       "      <td>Aceta</td>\n",
       "      <td>Paracetamol</td>\n",
       "    </tr>\n",
       "    <tr>\n",
       "      <th>2</th>\n",
       "      <td>2.png</td>\n",
       "      <td>Aceta</td>\n",
       "      <td>Paracetamol</td>\n",
       "    </tr>\n",
       "    <tr>\n",
       "      <th>3</th>\n",
       "      <td>3.png</td>\n",
       "      <td>Aceta</td>\n",
       "      <td>Paracetamol</td>\n",
       "    </tr>\n",
       "    <tr>\n",
       "      <th>4</th>\n",
       "      <td>4.png</td>\n",
       "      <td>Aceta</td>\n",
       "      <td>Paracetamol</td>\n",
       "    </tr>\n",
       "  </tbody>\n",
       "</table>\n",
       "</div>"
      ],
      "text/plain": [
       "   IMAGE MEDICINE_NAME GENERIC_NAME\n",
       "0  0.png         Aceta  Paracetamol\n",
       "1  1.png         Aceta  Paracetamol\n",
       "2  2.png         Aceta  Paracetamol\n",
       "3  3.png         Aceta  Paracetamol\n",
       "4  4.png         Aceta  Paracetamol"
      ]
     },
     "execution_count": 3,
     "metadata": {},
     "output_type": "execute_result"
    }
   ],
   "source": [
    "train.head()"
   ]
  },
  {
   "cell_type": "code",
   "execution_count": null,
   "id": "f01c5ac8-32f6-4dd9-a87e-1b5856793568",
   "metadata": {
    "execution": {
     "iopub.execute_input": "2024-11-06T08:42:46.566361Z",
     "iopub.status.busy": "2024-11-06T08:42:46.563364Z"
    }
   },
   "outputs": [
    {
     "name": "stdout",
     "output_type": "stream",
     "text": [
      "78\n",
      "['Aceta' 'Ace' 'Alatrol' 'Amodis' 'Atrizin' 'Axodin' 'Azithrocin' 'Azyth'\n",
      " 'Az' 'Bacaid' 'Backtone' 'Baclofen' 'Baclon' 'Bacmax' 'Beklo' 'Bicozin'\n",
      " 'Canazole' 'Candinil' 'Cetisoft' 'Conaz' 'Dancel' 'Denixil' 'Diflu'\n",
      " 'Dinafex' 'Disopan' 'Esonix' 'Esoral' 'Etizin' 'Exium' 'Fenadin'\n",
      " 'Fexofast' 'Fexo' 'Filmet' 'Fixal' 'Flamyd' 'Flexibac' 'Flexilax'\n",
      " 'Flugal' 'Ketocon' 'Ketoral' 'Ketotab' 'Ketozol' 'Leptic' 'Lucan-R'\n",
      " 'Lumona' 'M-Kast' 'Maxima' 'Maxpro' 'Metro' 'Metsina' 'Monas' 'Montair'\n",
      " 'Montene' 'Montex' 'Napa Extend' 'Napa' 'Nexcap' 'Nexum' 'Nidazyl'\n",
      " 'Nizoder' 'Odmon' 'Omastin' 'Opton' 'Progut' 'Provair' 'Renova' 'Rhinil'\n",
      " 'Ritch' 'Rivotril' 'Romycin' 'Rozith' 'Sergel' 'Tamen' 'Telfast'\n",
      " 'Tridosil' 'Trilock' 'Vifas' 'Zithrin']\n"
     ]
    }
   ],
   "source": [
    "print(len(train['MEDICINE_NAME'].unique()))\n",
    "print(train['MEDICINE_NAME'].unique())"
   ]
  },
  {
   "cell_type": "code",
   "execution_count": null,
   "id": "a6ce471a-e659-4658-8268-57302e3e43cb",
   "metadata": {},
   "outputs": [],
   "source": [
    "training_img_path = \"Training/training_words\"\n",
    "processed_train_images = []"
   ]
  },
  {
   "cell_type": "code",
   "execution_count": null,
   "id": "4269e52e-b047-4d35-8527-1d41307ba9e9",
   "metadata": {},
   "outputs": [],
   "source": [
    "for i in train['IMAGE']:\n",
    "    image_path = os.path.join(training_img_path, i)\n",
    "    image = Image.open(image_path)\n",
    "    image = image.convert('L')  # Convert to grayscale\n",
    "    input_size = (64,64)\n",
    "    image = image.resize(input_size)\n",
    "    image_array = np.array(image)\n",
    "    image_array = image_array / 255.0\n",
    "    image_array = np.expand_dims(image_array, axis=-1) \n",
    "    processed_train_images.append(image_array)"
   ]
  },
  {
   "cell_type": "code",
   "execution_count": null,
   "id": "b615b93b-ce6f-435f-98f4-f262a812b7cb",
   "metadata": {},
   "outputs": [],
   "source": [
    "print(len(processed_train_images))\n",
    "print(len(train['MEDICINE_NAME']))"
   ]
  },
  {
   "cell_type": "code",
   "execution_count": null,
   "id": "b5572d5e-c301-45af-87f3-61d095dffe49",
   "metadata": {},
   "outputs": [],
   "source": [
    "# Save as .npz file\n",
    "np.savez('train_data.npz', \n",
    "         images=processed_train_images, \n",
    "         labels=train['MEDICINE_NAME'])"
   ]
  },
  {
   "cell_type": "code",
   "execution_count": null,
   "id": "0b4ca4a0-e13c-44c6-b77e-748581ff71d3",
   "metadata": {},
   "outputs": [],
   "source": [
    "valid = pd.read_csv('Validation/validation_labels.csv')"
   ]
  },
  {
   "cell_type": "code",
   "execution_count": null,
   "id": "35984ca9-0b0a-4b04-ba8a-0a48264e23f1",
   "metadata": {},
   "outputs": [],
   "source": [
    "valid_img_path = \"Validation/validation_words\"\n",
    "processed_valid_images = []"
   ]
  },
  {
   "cell_type": "code",
   "execution_count": null,
   "id": "6e5470ad-063e-4f3e-9070-de4fec639994",
   "metadata": {},
   "outputs": [],
   "source": [
    "for i in valid['IMAGE']:\n",
    "    image_path = os.path.join(valid_img_path, i)\n",
    "    image = Image.open(image_path)\n",
    "    image = image.convert('L')  # Convert to grayscale\n",
    "    input_size = (64,64)\n",
    "    image = image.resize(input_size)\n",
    "    image_array = np.array(image)\n",
    "    image_array = image_array / 255.0\n",
    "    image_array = np.expand_dims(image_array, axis=-1) \n",
    "    processed_valid_images.append(image_array)"
   ]
  },
  {
   "cell_type": "code",
   "execution_count": null,
   "id": "045fd67a-a267-48d2-95e4-814d6bcc978c",
   "metadata": {},
   "outputs": [],
   "source": [
    "print(len(processed_valid_images))\n",
    "print(len(valid['MEDICINE_NAME']))"
   ]
  },
  {
   "cell_type": "code",
   "execution_count": null,
   "id": "73bce5fb-9bfd-409a-8b15-5e3fd6aef245",
   "metadata": {},
   "outputs": [],
   "source": [
    "# Save as .npz file\n",
    "np.savez('valid_data.npz', \n",
    "         images=processed_valid_images, \n",
    "         labels=valid['MEDICINE_NAME'])"
   ]
  },
  {
   "cell_type": "code",
   "execution_count": null,
   "id": "90f6f7a5-4ed6-42c5-8de8-cbb6e52cd75f",
   "metadata": {},
   "outputs": [],
   "source": [
    "test = pd.read_csv('Testing/testing_labels.csv')"
   ]
  },
  {
   "cell_type": "code",
   "execution_count": null,
   "id": "37e6ed8a-46be-44bb-aa2b-658993c48979",
   "metadata": {},
   "outputs": [],
   "source": [
    "test_img_path = \"Testing/testing_words\"\n",
    "processed_test_images = []"
   ]
  },
  {
   "cell_type": "code",
   "execution_count": null,
   "id": "7c54c9a0-2ddd-4fab-8c80-db94c15d9ec6",
   "metadata": {},
   "outputs": [],
   "source": [
    "for i in test['IMAGE']:\n",
    "    image_path = os.path.join(test_img_path, i)\n",
    "    image = Image.open(image_path)\n",
    "    image = image.convert('L')  # Convert to grayscale\n",
    "    input_size = (64,64)\n",
    "    image = image.resize(input_size)\n",
    "    image_array = np.array(image)\n",
    "    image_array = image_array / 255.0\n",
    "    image_array = np.expand_dims(image_array, axis=-1) \n",
    "    processed_test_images.append(image_array)"
   ]
  },
  {
   "cell_type": "code",
   "execution_count": null,
   "id": "0bf1aaec-746e-4783-b892-186ea2e4b236",
   "metadata": {},
   "outputs": [],
   "source": [
    "# Save as .npz file\n",
    "np.savez('test_data.npz', \n",
    "         images=processed_test_images, \n",
    "         labels=test['MEDICINE_NAME'])"
   ]
  },
  {
   "cell_type": "code",
   "execution_count": null,
   "id": "6ef89414-8e7e-402a-ba40-73db6e4e6013",
   "metadata": {},
   "outputs": [],
   "source": []
  }
 ],
 "metadata": {
  "kernelspec": {
   "display_name": "Python 3 (ipykernel)",
   "language": "python",
   "name": "python3"
  },
  "language_info": {
   "codemirror_mode": {
    "name": "ipython",
    "version": 3
   },
   "file_extension": ".py",
   "mimetype": "text/x-python",
   "name": "python",
   "nbconvert_exporter": "python",
   "pygments_lexer": "ipython3",
   "version": "3.10.0"
  }
 },
 "nbformat": 4,
 "nbformat_minor": 5
}
