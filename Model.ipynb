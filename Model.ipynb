{
 "cells": [
  {
   "cell_type": "code",
   "execution_count": 1,
   "id": "6c4239e2-66a8-438e-be08-ff8573427de3",
   "metadata": {
    "execution": {
     "iopub.execute_input": "2024-11-06T10:53:09.772468Z",
     "iopub.status.busy": "2024-11-06T10:53:09.771470Z",
     "iopub.status.idle": "2024-11-06T10:53:18.842665Z",
     "shell.execute_reply": "2024-11-06T10:53:18.842665Z",
     "shell.execute_reply.started": "2024-11-06T10:53:09.772468Z"
    }
   },
   "outputs": [
    {
     "name": "stdout",
     "output_type": "stream",
     "text": [
      "WARNING:tensorflow:From C:\\Users\\SAMI\\AppData\\Local\\Programs\\Python\\Python310\\lib\\site-packages\\keras\\src\\losses.py:2976: The name tf.losses.sparse_softmax_cross_entropy is deprecated. Please use tf.compat.v1.losses.sparse_softmax_cross_entropy instead.\n",
      "\n"
     ]
    }
   ],
   "source": [
    "import tensorflow as tf\n",
    "from tensorflow.keras.layers import Conv2D, MaxPooling2D, Dropout, Reshape, SimpleRNN, Dense, Flatten\n",
    "from tensorflow.keras import layers, models\n",
    "from tensorflow.keras.preprocessing.image import ImageDataGenerator\n",
    "from tensorflow.keras.optimizers import Adam\n",
    "import numpy as np\n",
    "import matplotlib.pyplot as plt\n",
    "import pandas as pd"
   ]
  },
  {
   "cell_type": "code",
   "execution_count": 2,
   "id": "cf0df13a-d65f-49d0-9997-2bc6ff4a1091",
   "metadata": {
    "execution": {
     "iopub.execute_input": "2024-11-06T10:53:18.846182Z",
     "iopub.status.busy": "2024-11-06T10:53:18.845184Z",
     "iopub.status.idle": "2024-11-06T10:53:18.859263Z",
     "shell.execute_reply": "2024-11-06T10:53:18.858264Z",
     "shell.execute_reply.started": "2024-11-06T10:53:18.846182Z"
    }
   },
   "outputs": [],
   "source": [
    "train = np.load('train_data.npz', allow_pickle=True)"
   ]
  },
  {
   "cell_type": "code",
   "execution_count": 3,
   "id": "56db660a-9500-4fd7-8c25-2cc962a95143",
   "metadata": {
    "execution": {
     "iopub.execute_input": "2024-11-06T10:53:18.861257Z",
     "iopub.status.busy": "2024-11-06T10:53:18.860260Z",
     "iopub.status.idle": "2024-11-06T10:53:18.875298Z",
     "shell.execute_reply": "2024-11-06T10:53:18.874250Z",
     "shell.execute_reply.started": "2024-11-06T10:53:18.861257Z"
    }
   },
   "outputs": [],
   "source": [
    "valid = np.load('valid_data.npz', allow_pickle=True)"
   ]
  },
  {
   "cell_type": "code",
   "execution_count": 4,
   "id": "802a91db-e408-4491-aba4-d1510b87f6e5",
   "metadata": {
    "execution": {
     "iopub.execute_input": "2024-11-06T10:53:18.880289Z",
     "iopub.status.busy": "2024-11-06T10:53:18.879291Z",
     "iopub.status.idle": "2024-11-06T10:53:19.077785Z",
     "shell.execute_reply": "2024-11-06T10:53:19.076789Z",
     "shell.execute_reply.started": "2024-11-06T10:53:18.880289Z"
    }
   },
   "outputs": [],
   "source": [
    "# Access the arrays\n",
    "train_images = train['images']\n",
    "train_labels = train['labels']"
   ]
  },
  {
   "cell_type": "code",
   "execution_count": 5,
   "id": "a5368c04-b17d-4891-b42e-0036a6bd57bb",
   "metadata": {
    "execution": {
     "iopub.execute_input": "2024-11-06T10:53:19.078783Z",
     "iopub.status.busy": "2024-11-06T10:53:19.078783Z",
     "iopub.status.idle": "2024-11-06T10:53:19.141229Z",
     "shell.execute_reply": "2024-11-06T10:53:19.140231Z",
     "shell.execute_reply.started": "2024-11-06T10:53:19.078783Z"
    }
   },
   "outputs": [],
   "source": [
    "valid_images = valid['images']\n",
    "valid_labels = valid['labels']"
   ]
  },
  {
   "cell_type": "code",
   "execution_count": 6,
   "id": "82cc25a3-ec4a-4343-8537-6bf7840f49b8",
   "metadata": {
    "execution": {
     "iopub.execute_input": "2024-11-06T10:53:19.143225Z",
     "iopub.status.busy": "2024-11-06T10:53:19.142227Z",
     "iopub.status.idle": "2024-11-06T10:53:19.812353Z",
     "shell.execute_reply": "2024-11-06T10:53:19.810361Z",
     "shell.execute_reply.started": "2024-11-06T10:53:19.143225Z"
    }
   },
   "outputs": [],
   "source": [
    "from sklearn.preprocessing import LabelEncoder\n",
    "\n",
    "label_encoder = LabelEncoder()\n",
    "train_labels = label_encoder.fit_transform(train_labels)\n",
    "valid_labels = label_encoder.fit_transform(valid_labels)"
   ]
  },
  {
   "cell_type": "code",
   "execution_count": 7,
   "id": "4d8feb8c-873f-42dc-944f-15f99b766a10",
   "metadata": {
    "execution": {
     "iopub.execute_input": "2024-11-06T10:53:19.818867Z",
     "iopub.status.busy": "2024-11-06T10:53:19.817870Z",
     "iopub.status.idle": "2024-11-06T10:53:19.843868Z",
     "shell.execute_reply": "2024-11-06T10:53:19.841873Z",
     "shell.execute_reply.started": "2024-11-06T10:53:19.818867Z"
    }
   },
   "outputs": [
    {
     "data": {
      "text/plain": [
       "78"
      ]
     },
     "execution_count": 7,
     "metadata": {},
     "output_type": "execute_result"
    }
   ],
   "source": [
    "len(np.unique(train_labels))"
   ]
  },
  {
   "cell_type": "code",
   "execution_count": 8,
   "id": "7ff01bed-5b0d-4b41-b2fd-4f10d5afbb86",
   "metadata": {
    "execution": {
     "iopub.execute_input": "2024-11-06T10:53:19.852362Z",
     "iopub.status.busy": "2024-11-06T10:53:19.848373Z",
     "iopub.status.idle": "2024-11-06T10:53:19.874991Z",
     "shell.execute_reply": "2024-11-06T10:53:19.873883Z",
     "shell.execute_reply.started": "2024-11-06T10:53:19.852362Z"
    }
   },
   "outputs": [
    {
     "data": {
      "text/plain": [
       "3120"
      ]
     },
     "execution_count": 8,
     "metadata": {},
     "output_type": "execute_result"
    }
   ],
   "source": [
    "len(train_images)"
   ]
  },
  {
   "cell_type": "code",
   "execution_count": 9,
   "id": "8b57cf25-04c9-4520-a7c0-d22148db7952",
   "metadata": {
    "execution": {
     "iopub.execute_input": "2024-11-06T10:53:19.878985Z",
     "iopub.status.busy": "2024-11-06T10:53:19.877987Z",
     "iopub.status.idle": "2024-11-06T10:53:19.890978Z",
     "shell.execute_reply": "2024-11-06T10:53:19.889473Z",
     "shell.execute_reply.started": "2024-11-06T10:53:19.878985Z"
    }
   },
   "outputs": [
    {
     "data": {
      "text/plain": [
       "3120"
      ]
     },
     "execution_count": 9,
     "metadata": {},
     "output_type": "execute_result"
    }
   ],
   "source": [
    "len(train_labels)"
   ]
  },
  {
   "cell_type": "code",
   "execution_count": 10,
   "id": "bdf94aab-5511-41c2-9a87-c0221c293d9f",
   "metadata": {
    "execution": {
     "iopub.execute_input": "2024-11-06T10:53:19.893971Z",
     "iopub.status.busy": "2024-11-06T10:53:19.892973Z",
     "iopub.status.idle": "2024-11-06T10:53:19.906018Z",
     "shell.execute_reply": "2024-11-06T10:53:19.905019Z",
     "shell.execute_reply.started": "2024-11-06T10:53:19.892973Z"
    }
   },
   "outputs": [
    {
     "data": {
      "text/plain": [
       "(64, 64, 1)"
      ]
     },
     "execution_count": 10,
     "metadata": {},
     "output_type": "execute_result"
    }
   ],
   "source": [
    "train_images[0].shape"
   ]
  },
  {
   "cell_type": "code",
   "execution_count": 11,
   "id": "79fdeafa-29fa-42a6-96b2-90ecd0bb83ef",
   "metadata": {
    "execution": {
     "iopub.execute_input": "2024-11-06T10:53:19.909014Z",
     "iopub.status.busy": "2024-11-06T10:53:19.908016Z",
     "iopub.status.idle": "2024-11-06T10:53:19.922505Z",
     "shell.execute_reply": "2024-11-06T10:53:19.920514Z",
     "shell.execute_reply.started": "2024-11-06T10:53:19.909014Z"
    }
   },
   "outputs": [],
   "source": [
    "datagen = ImageDataGenerator(\n",
    "    rotation_range=5,  \n",
    "    zoom_range=0.1, \n",
    "    fill_mode='nearest' \n",
    ")"
   ]
  },
  {
   "cell_type": "code",
   "execution_count": 12,
   "id": "c1bbd6b7-8035-4a42-b3ae-f0d4828562ea",
   "metadata": {
    "execution": {
     "iopub.execute_input": "2024-11-06T10:53:19.925027Z",
     "iopub.status.busy": "2024-11-06T10:53:19.924014Z",
     "iopub.status.idle": "2024-11-06T10:53:22.406437Z",
     "shell.execute_reply": "2024-11-06T10:53:22.405437Z",
     "shell.execute_reply.started": "2024-11-06T10:53:19.925027Z"
    }
   },
   "outputs": [],
   "source": [
    "augmented_images = []\n",
    "augmented_labels = []\n",
    "\n",
    "for i in range(len(train_images)):\n",
    "    img = train_images[i]\n",
    "    label = train_labels[i]\n",
    "    img = np.expand_dims(img, 0)\n",
    "    for augmented_img in datagen.flow(img, batch_size=1):\n",
    "        augmented_images.append(augmented_img[0])\n",
    "        augmented_labels.append(label)\n",
    "        break \n",
    "augmented_images = np.array(augmented_images)\n",
    "augmented_labels = np.array(augmented_labels)"
   ]
  },
  {
   "cell_type": "code",
   "execution_count": 13,
   "id": "77bbdcc8-cb23-4b09-b8d9-a56b542ac121",
   "metadata": {
    "execution": {
     "iopub.execute_input": "2024-11-06T10:53:22.412422Z",
     "iopub.status.busy": "2024-11-06T10:53:22.411425Z",
     "iopub.status.idle": "2024-11-06T10:53:22.421931Z",
     "shell.execute_reply": "2024-11-06T10:53:22.420933Z",
     "shell.execute_reply.started": "2024-11-06T10:53:22.412422Z"
    }
   },
   "outputs": [],
   "source": [
    "# Define input shape\n",
    "input_shape = augmented_images[0].shape \n",
    "num_classes = len(np.unique(augmented_labels)) "
   ]
  },
  {
   "cell_type": "code",
   "execution_count": 14,
   "id": "f7cb698a-82cc-4416-9847-de8988357097",
   "metadata": {
    "execution": {
     "iopub.execute_input": "2024-11-06T10:53:22.424430Z",
     "iopub.status.busy": "2024-11-06T10:53:22.423926Z",
     "iopub.status.idle": "2024-11-06T10:53:23.667573Z",
     "shell.execute_reply": "2024-11-06T10:53:23.666576Z",
     "shell.execute_reply.started": "2024-11-06T10:53:22.424430Z"
    },
    "scrolled": true
   },
   "outputs": [
    {
     "name": "stdout",
     "output_type": "stream",
     "text": [
      "WARNING:tensorflow:From C:\\Users\\SAMI\\AppData\\Local\\Programs\\Python\\Python310\\lib\\site-packages\\keras\\src\\backend.py:873: The name tf.get_default_graph is deprecated. Please use tf.compat.v1.get_default_graph instead.\n",
      "\n",
      "WARNING:tensorflow:From C:\\Users\\SAMI\\AppData\\Local\\Programs\\Python\\Python310\\lib\\site-packages\\keras\\src\\layers\\pooling\\max_pooling2d.py:161: The name tf.nn.max_pool is deprecated. Please use tf.nn.max_pool2d instead.\n",
      "\n"
     ]
    }
   ],
   "source": [
    "from tensorflow.keras.models import Sequential\n",
    "\n",
    "model = Sequential()\n",
    "\n",
    "model.add(Conv2D(32, (3, 3), activation='relu', input_shape=input_shape))\n",
    "model.add(MaxPooling2D(pool_size=(2, 2)))\n",
    "model.add(Conv2D(64, (3, 3), activation='relu'))\n",
    "model.add(MaxPooling2D(pool_size=(2, 2)))\n",
    "model.add(Conv2D(128, (3, 3), activation='relu'))\n",
    "model.add(MaxPooling2D(pool_size=(2, 2)))\n",
    "model.add(Flatten())\n",
    "model.add(Dense(512, activation='relu'))\n",
    "model.add(Dropout(0.5))\n",
    "\n",
    "model.add(Reshape((-1, 128)))  \n",
    "model.add(SimpleRNN(128, return_sequences=False)) \n",
    "model.add(Dense(num_classes, activation='softmax')) "
   ]
  },
  {
   "cell_type": "code",
   "execution_count": 15,
   "id": "ec132801-19ee-4c3d-ab1d-c77b541f5f5d",
   "metadata": {
    "execution": {
     "iopub.execute_input": "2024-11-06T10:53:23.670565Z",
     "iopub.status.busy": "2024-11-06T10:53:23.669568Z",
     "iopub.status.idle": "2024-11-06T10:56:30.537353Z",
     "shell.execute_reply": "2024-11-06T10:56:30.536357Z",
     "shell.execute_reply.started": "2024-11-06T10:53:23.670565Z"
    }
   },
   "outputs": [
    {
     "name": "stdout",
     "output_type": "stream",
     "text": [
      "WARNING:tensorflow:From C:\\Users\\SAMI\\AppData\\Local\\Programs\\Python\\Python310\\lib\\site-packages\\keras\\src\\optimizers\\__init__.py:309: The name tf.train.Optimizer is deprecated. Please use tf.compat.v1.train.Optimizer instead.\n",
      "\n",
      "Epoch 1/25\n",
      "WARNING:tensorflow:From C:\\Users\\SAMI\\AppData\\Local\\Programs\\Python\\Python310\\lib\\site-packages\\keras\\src\\utils\\tf_utils.py:492: The name tf.ragged.RaggedTensorValue is deprecated. Please use tf.compat.v1.ragged.RaggedTensorValue instead.\n",
      "\n",
      "WARNING:tensorflow:From C:\\Users\\SAMI\\AppData\\Local\\Programs\\Python\\Python310\\lib\\site-packages\\keras\\src\\engine\\base_layer_utils.py:384: The name tf.executing_eagerly_outside_functions is deprecated. Please use tf.compat.v1.executing_eagerly_outside_functions instead.\n",
      "\n",
      "98/98 [==============================] - 11s 82ms/step - loss: 4.3623 - accuracy: 0.0147 - val_loss: 4.2803 - val_accuracy: 0.0167\n",
      "Epoch 2/25\n",
      "98/98 [==============================] - 7s 75ms/step - loss: 4.1740 - accuracy: 0.0423 - val_loss: 3.9396 - val_accuracy: 0.0936\n",
      "Epoch 3/25\n",
      "98/98 [==============================] - 7s 74ms/step - loss: 3.5886 - accuracy: 0.1468 - val_loss: 3.0123 - val_accuracy: 0.2474\n",
      "Epoch 4/25\n",
      "98/98 [==============================] - 7s 77ms/step - loss: 2.7963 - accuracy: 0.3077 - val_loss: 2.3557 - val_accuracy: 0.4359\n",
      "Epoch 5/25\n",
      "98/98 [==============================] - 7s 75ms/step - loss: 2.1818 - accuracy: 0.4625 - val_loss: 1.9763 - val_accuracy: 0.5346\n",
      "Epoch 6/25\n",
      "98/98 [==============================] - 7s 74ms/step - loss: 1.7409 - accuracy: 0.5686 - val_loss: 1.7968 - val_accuracy: 0.5679\n",
      "Epoch 7/25\n",
      "98/98 [==============================] - 7s 74ms/step - loss: 1.3849 - accuracy: 0.6641 - val_loss: 1.5882 - val_accuracy: 0.6218\n",
      "Epoch 8/25\n",
      "98/98 [==============================] - 7s 76ms/step - loss: 1.0651 - accuracy: 0.7500 - val_loss: 1.4493 - val_accuracy: 0.6359\n",
      "Epoch 9/25\n",
      "98/98 [==============================] - 7s 76ms/step - loss: 0.8451 - accuracy: 0.8122 - val_loss: 1.4113 - val_accuracy: 0.6513\n",
      "Epoch 10/25\n",
      "98/98 [==============================] - 7s 75ms/step - loss: 0.7150 - accuracy: 0.8288 - val_loss: 1.3199 - val_accuracy: 0.6679\n",
      "Epoch 11/25\n",
      "98/98 [==============================] - 7s 76ms/step - loss: 0.5677 - accuracy: 0.8753 - val_loss: 1.3146 - val_accuracy: 0.6731\n",
      "Epoch 12/25\n",
      "98/98 [==============================] - 7s 76ms/step - loss: 0.4511 - accuracy: 0.9054 - val_loss: 1.3082 - val_accuracy: 0.6885\n",
      "Epoch 13/25\n",
      "98/98 [==============================] - 8s 78ms/step - loss: 0.3747 - accuracy: 0.9234 - val_loss: 1.3225 - val_accuracy: 0.6833\n",
      "Epoch 14/25\n",
      "98/98 [==============================] - 7s 70ms/step - loss: 0.3055 - accuracy: 0.9349 - val_loss: 1.3569 - val_accuracy: 0.6910\n",
      "Epoch 15/25\n",
      "98/98 [==============================] - 7s 72ms/step - loss: 0.2814 - accuracy: 0.9433 - val_loss: 1.3205 - val_accuracy: 0.6987\n",
      "Epoch 16/25\n",
      "98/98 [==============================] - 8s 82ms/step - loss: 0.2310 - accuracy: 0.9561 - val_loss: 1.3038 - val_accuracy: 0.6987\n",
      "Epoch 17/25\n",
      "98/98 [==============================] - 7s 72ms/step - loss: 0.2052 - accuracy: 0.9590 - val_loss: 1.3148 - val_accuracy: 0.7064\n",
      "Epoch 18/25\n",
      "98/98 [==============================] - 7s 71ms/step - loss: 0.1718 - accuracy: 0.9702 - val_loss: 1.3417 - val_accuracy: 0.6974\n",
      "Epoch 19/25\n",
      "98/98 [==============================] - 7s 71ms/step - loss: 0.1576 - accuracy: 0.9689 - val_loss: 1.2962 - val_accuracy: 0.7077\n",
      "Epoch 20/25\n",
      "98/98 [==============================] - 7s 73ms/step - loss: 0.1627 - accuracy: 0.9679 - val_loss: 1.3157 - val_accuracy: 0.7013\n",
      "Epoch 21/25\n",
      "98/98 [==============================] - 7s 71ms/step - loss: 0.1448 - accuracy: 0.9679 - val_loss: 1.3394 - val_accuracy: 0.7051\n",
      "Epoch 22/25\n",
      "98/98 [==============================] - 7s 71ms/step - loss: 0.1448 - accuracy: 0.9692 - val_loss: 1.3427 - val_accuracy: 0.7026\n",
      "Epoch 23/25\n",
      "98/98 [==============================] - 7s 71ms/step - loss: 0.1298 - accuracy: 0.9731 - val_loss: 1.3494 - val_accuracy: 0.7013\n",
      "Epoch 24/25\n",
      "98/98 [==============================] - 8s 80ms/step - loss: 0.1278 - accuracy: 0.9734 - val_loss: 1.3122 - val_accuracy: 0.7115\n",
      "Epoch 25/25\n",
      "98/98 [==============================] - 8s 81ms/step - loss: 0.1041 - accuracy: 0.9792 - val_loss: 1.3433 - val_accuracy: 0.7064\n"
     ]
    }
   ],
   "source": [
    "model.compile(optimizer='adam', loss='sparse_categorical_crossentropy', metrics=['accuracy'])\n",
    "history = model.fit(\n",
    "    augmented_images, augmented_labels,\n",
    "    validation_data=(valid_images, valid_labels),\n",
    "    epochs=25,\n",
    "    batch_size=32,\n",
    ")"
   ]
  },
  {
   "cell_type": "code",
   "execution_count": 22,
   "id": "fc347c10-68f8-4016-b093-3cfc6a1606f3",
   "metadata": {
    "execution": {
     "iopub.execute_input": "2024-11-06T10:57:02.992996Z",
     "iopub.status.busy": "2024-11-06T10:57:02.991999Z",
     "iopub.status.idle": "2024-11-06T10:57:03.311293Z",
     "shell.execute_reply": "2024-11-06T10:57:03.310295Z",
     "shell.execute_reply.started": "2024-11-06T10:57:02.992996Z"
    }
   },
   "outputs": [
    {
     "data": {
      "text/plain": [
       "<matplotlib.legend.Legend at 0x2363aebb9a0>"
      ]
     },
     "execution_count": 22,
     "metadata": {},
     "output_type": "execute_result"
    },
    {
     "data": {
      "image/png": "[encoded data removed]",
      "text/plain": [
       "<Figure size 640x480 with 1 Axes>"
      ]
     },
     "metadata": {},
     "output_type": "display_data"
    }
   ],
   "source": [
    "import matplotlib.pyplot as plt\n",
    "plt.plot(history.history['loss'], label='loss')\n",
    "plt.plot(history.history['val_loss'], label='val_loss')\n",
    "plt.legend()"
   ]
  },
  {
   "cell_type": "code",
   "execution_count": 23,
   "id": "9eb664e7-280c-4ded-9c51-d1578574cf9d",
   "metadata": {
    "execution": {
     "iopub.execute_input": "2024-11-06T10:57:03.314792Z",
     "iopub.status.busy": "2024-11-06T10:57:03.314286Z",
     "iopub.status.idle": "2024-11-06T10:57:03.327302Z",
     "shell.execute_reply": "2024-11-06T10:57:03.326304Z",
     "shell.execute_reply.started": "2024-11-06T10:57:03.314792Z"
    }
   },
   "outputs": [],
   "source": [
    "test = np.load('test_data.npz',allow_pickle=True)"
   ]
  },
  {
   "cell_type": "code",
   "execution_count": 24,
   "id": "95b8da6b-4e26-4f62-9afa-c385ff0f19ab",
   "metadata": {
    "execution": {
     "iopub.execute_input": "2024-11-06T10:57:03.345311Z",
     "iopub.status.busy": "2024-11-06T10:57:03.344293Z",
     "iopub.status.idle": "2024-11-06T10:57:03.406338Z",
     "shell.execute_reply": "2024-11-06T10:57:03.405337Z",
     "shell.execute_reply.started": "2024-11-06T10:57:03.345311Z"
    }
   },
   "outputs": [],
   "source": [
    "test_images = test['images']\n",
    "test_labels = test['labels']"
   ]
  },
  {
   "cell_type": "code",
   "execution_count": 25,
   "id": "2d91fa43-6764-49a0-8fce-7b38bc231c70",
   "metadata": {
    "execution": {
     "iopub.execute_input": "2024-11-06T10:57:03.409330Z",
     "iopub.status.busy": "2024-11-06T10:57:03.408332Z",
     "iopub.status.idle": "2024-11-06T10:57:03.421832Z",
     "shell.execute_reply": "2024-11-06T10:57:03.420834Z",
     "shell.execute_reply.started": "2024-11-06T10:57:03.409330Z"
    }
   },
   "outputs": [],
   "source": [
    "test_labels = label_encoder.fit_transform(test_labels)"
   ]
  },
  {
   "cell_type": "code",
   "execution_count": 26,
   "id": "49373bec-4f9f-4bad-ab78-71775f661eca",
   "metadata": {
    "execution": {
     "iopub.execute_input": "2024-11-06T10:57:04.457644Z",
     "iopub.status.busy": "2024-11-06T10:57:04.457644Z",
     "iopub.status.idle": "2024-11-06T10:57:05.124928Z",
     "shell.execute_reply": "2024-11-06T10:57:05.123880Z",
     "shell.execute_reply.started": "2024-11-06T10:57:04.457644Z"
    }
   },
   "outputs": [
    {
     "name": "stdout",
     "output_type": "stream",
     "text": [
      "25/25 [==============================] - 1s 20ms/step - loss: 2.0669 - accuracy: 0.6064\n"
     ]
    }
   ],
   "source": [
    "# Evaluate the model\n",
    "loss, accuracy = model.evaluate(test_images,test_labels)"
   ]
  },
  {
   "cell_type": "code",
   "execution_count": null,
   "id": "6ff311f7-bfb0-40a7-b499-c121f6cf7595",
   "metadata": {},
   "outputs": [],
   "source": []
  },
  {
   "cell_type": "code",
   "execution_count": null,
   "id": "08ba3148-d3d5-41d3-bcea-8b285af6c341",
   "metadata": {},
   "outputs": [],
   "source": []
  }
 ],
 "metadata": {
  "kernelspec": {
   "display_name": "Python 3 (ipykernel)",
   "language": "python",
   "name": "python3"
  },
  "language_info": {
   "codemirror_mode": {
    "name": "ipython",
    "version": 3
   },
   "file_extension": ".py",
   "mimetype": "text/x-python",
   "name": "python",
   "nbconvert_exporter": "python",
   "pygments_lexer": "ipython3",
   "version": "3.10.0"
  }
 },
 "nbformat": 4,
 "nbformat_minor": 5
}
